{
 "cells": [
  {
   "cell_type": "markdown",
   "id": "de5c6d30",
   "metadata": {},
   "source": [
    "Problem 1: Find the Element Appearing Maximum Number of Times\n",
    "Algorithm:\n",
    "\n",
    "Use a hash map to count the frequency of each element in the array.\n",
    "Traverse the hash map to find the element with the highest count.\n",
    "Steps:\n",
    "\n",
    "Create an empty hash map (or dictionary).\n",
    "Traverse the array, and for each element, update its count in the hash map.\n",
    "Traverse the hash map to find the key with the highest value (count)."
   ]
  },
  {
   "cell_type": "code",
   "execution_count": 1,
   "id": "920eb6f2",
   "metadata": {},
   "outputs": [
    {
     "name": "stdout",
     "output_type": "stream",
     "text": [
      "3\n"
     ]
    }
   ],
   "source": [
    "def find_max_occurrence(arr):\n",
    "    from collections import Counter\n",
    "    counts = Counter(arr)\n",
    "    return max(counts, key=counts.get)\n",
    "\n",
    "\n",
    "arr = [1, 2, 2, 3, 3, 3, 4]\n",
    "print(find_max_occurrence(arr))  # Output: 3\n"
   ]
  },
  {
   "cell_type": "markdown",
   "id": "e7db6433",
   "metadata": {},
   "source": [
    "Problem 2: Find the Missing Integer in the List\n",
    "Algorithm:\n",
    "\n",
    "Compute the expected sum of the first n integers.\n",
    "Compute the actual sum of the given list.\n",
    "The missing integer is the difference between the expected sum and the actual sum.\n",
    "Steps:\n",
    "\n",
    "Compute the expected sum using the formula \n",
    "sum\n",
    "=\n",
    "𝑛\n",
    "(\n",
    "𝑛\n",
    "+\n",
    "1\n",
    ")\n",
    "2\n",
    "sum= \n",
    "2\n",
    "n(n+1)\n",
    "​\n",
    " .\n",
    "Compute the actual sum of the list.\n",
    "Subtract the actual sum from the expected sum to get the missing integer."
   ]
  },
  {
   "cell_type": "code",
   "execution_count": 2,
   "id": "ac382683",
   "metadata": {},
   "outputs": [
    {
     "name": "stdout",
     "output_type": "stream",
     "text": [
      "5\n"
     ]
    }
   ],
   "source": [
    "def find_missing_number(arr, n):\n",
    "    expected_sum = n * (n + 1) // 2\n",
    "    actual_sum = sum(arr)\n",
    "    return expected_sum - actual_sum\n",
    "\n",
    "\n",
    "arr = [1, 2, 4, 6, 3, 7, 8]\n",
    "n = 8\n",
    "print(find_missing_number(arr, n)) \n"
   ]
  },
  {
   "cell_type": "markdown",
   "id": "75a8ab0e",
   "metadata": {},
   "source": [
    "Problem 3: Find the Element Occurring Odd Number of Times\n",
    "Algorithm:\n",
    "\n",
    "Use XOR operation: The XOR of two identical numbers is 0, and XOR with 0 is the number itself. XOR-ing all numbers will cancel out pairs, leaving the number with an odd count.\n",
    "Steps:\n",
    "\n",
    "Initialize a variable result to 0.\n",
    "Traverse the array and XOR each element with result.\n",
    "After traversing the array, result will be the number with an odd count."
   ]
  },
  {
   "cell_type": "code",
   "execution_count": 3,
   "id": "69c76be2",
   "metadata": {},
   "outputs": [
    {
     "name": "stdout",
     "output_type": "stream",
     "text": [
      "3\n"
     ]
    }
   ],
   "source": [
    "def find_odd_occurrence(arr):\n",
    "    result = 0\n",
    "    for num in arr:\n",
    "        result ^= num\n",
    "    return result\n",
    "\n",
    "\n",
    "arr = [1, 2, 3, 2, 3, 1, 3]\n",
    "print(find_odd_occurrence(arr)) \n"
   ]
  },
  {
   "cell_type": "markdown",
   "id": "c7984eb2",
   "metadata": {},
   "source": [
    "Problem 4: Find Two Elements with Sum Equal to K\n",
    "Algorithm:\n",
    "\n",
    "Use a hash set to keep track of the numbers we've seen so far.\n",
    "For each number, check if \n",
    "𝐾\n",
    "−\n",
    "number\n",
    "K−number is in the set.\n",
    "Steps:\n",
    "\n",
    "Initialize an empty set.\n",
    "Traverse the array:\n",
    "Check if \n",
    "𝐾\n",
    "−\n",
    "current number\n",
    "K−current number is in the set.\n",
    "If yes, return the pair.\n",
    "Otherwise, add the current number to the set."
   ]
  },
  {
   "cell_type": "code",
   "execution_count": 4,
   "id": "4c32c698",
   "metadata": {},
   "outputs": [
    {
     "name": "stdout",
     "output_type": "stream",
     "text": [
      "(3, 5)\n"
     ]
    }
   ],
   "source": [
    "def find_pair_with_sum(arr, K):\n",
    "    seen = set()\n",
    "    for num in arr:\n",
    "        if K - num in seen:\n",
    "            return (K - num, num)\n",
    "        seen.add(num)\n",
    "    return None\n",
    "\n",
    "\n",
    "arr = [1, 2, 4, 3, 5]\n",
    "K = 8\n",
    "print(find_pair_with_sum(arr, K))  \n"
   ]
  },
  {
   "cell_type": "markdown",
   "id": "e038f917",
   "metadata": {},
   "source": [
    "Problem 5: Find Two Numbers Whose Sum is Closest to Zero\n",
    "Algorithm:\n",
    "\n",
    "Sort the array.\n",
    "Use two pointers (one at the beginning and one at the end) to find the pair with the closest sum to zero.\n",
    "Steps:\n",
    "\n",
    "Sort the array.\n",
    "Initialize two pointers, one at the start and one at the end.\n",
    "Iterate with the pointers:\n",
    "Calculate the sum of the elements at the two pointers.\n",
    "Update the closest pair if this sum is closer to zero.\n",
    "Adjust pointers based on whether the sum is positive or negative."
   ]
  },
  {
   "cell_type": "code",
   "execution_count": 5,
   "id": "b189cb17",
   "metadata": {},
   "outputs": [
    {
     "name": "stdout",
     "output_type": "stream",
     "text": [
      "(-80, 85)\n"
     ]
    }
   ],
   "source": [
    "def find_closest_pair(arr):\n",
    "    arr.sort()\n",
    "    left, right = 0, len(arr) - 1\n",
    "    closest_pair = (arr[left], arr[right])\n",
    "    min_diff = float('inf')\n",
    "    \n",
    "    while left < right:\n",
    "        current_sum = arr[left] + arr[right]\n",
    "        if abs(current_sum) < min_diff:\n",
    "            min_diff = abs(current_sum)\n",
    "            closest_pair = (arr[left], arr[right])\n",
    "        \n",
    "        if current_sum < 0:\n",
    "            left += 1\n",
    "        elif current_sum > 0:\n",
    "            right -= 1\n",
    "        else:\n",
    "            break\n",
    "    \n",
    "    return closest_pair\n",
    "\n",
    "\n",
    "arr = [1, 60, -10, 70, -80, 85]\n",
    "print(find_closest_pair(arr))  \n"
   ]
  },
  {
   "cell_type": "markdown",
   "id": "ec1fe14e",
   "metadata": {},
   "source": [
    "Problem 6: Find Three Elements Whose Sum is Equal to Given Number\n",
    "Algorithm:\n",
    "\n",
    "Sort the array.\n",
    "Use a fixed pointer and two pointers to find the triplet.\n",
    "Steps:\n",
    "\n",
    "Sort the array.\n",
    "Iterate with a fixed pointer from the start to the second last element:\n",
    "Use two pointers to find pairs in the remaining part of the array.\n",
    "If the sum of the triplet is equal to the given number, return the triplet."
   ]
  },
  {
   "cell_type": "code",
   "execution_count": 6,
   "id": "a0504f5c",
   "metadata": {},
   "outputs": [
    {
     "name": "stdout",
     "output_type": "stream",
     "text": [
      "(1, 6, 10)\n"
     ]
    }
   ],
   "source": [
    "def find_triplet_with_sum(arr, target_sum):\n",
    "    arr.sort()\n",
    "    n = len(arr)\n",
    "    \n",
    "    for i in range(n - 2):\n",
    "        left, right = i + 1, n - 1\n",
    "        while left < right:\n",
    "            current_sum = arr[i] + arr[left] + arr[right]\n",
    "            if current_sum == target_sum:\n",
    "                return (arr[i], arr[left], arr[right])\n",
    "            elif current_sum < target_sum:\n",
    "                left += 1\n",
    "            else:\n",
    "                right -= 1\n",
    "    return None\n",
    "\n",
    "arr = [1, 4, 5, 6, 8, 10]\n",
    "target_sum = 17\n",
    "print(find_triplet_with_sum(arr, target_sum)) \n"
   ]
  },
  {
   "cell_type": "markdown",
   "id": "cf427916",
   "metadata": {},
   "source": [
    "Problem 7: Find Three Elements i, j, k Such That \n",
    "𝑖\n",
    "2\n",
    "+\n",
    "𝑗\n",
    "2\n",
    "=\n",
    "𝑘\n",
    "2\n",
    "i \n",
    "2\n",
    " +j \n",
    "2\n",
    " =k \n",
    "2\n",
    " \n",
    "Algorithm:\n",
    "\n",
    "Generate all possible \n",
    "𝑘\n",
    "2\n",
    "k \n",
    "2\n",
    "  values.\n",
    "For each element \n",
    "𝑘\n",
    "k, check if there are pairs \n",
    "(\n",
    "𝑖\n",
    ",\n",
    "𝑗\n",
    ")\n",
    "(i,j) such that \n",
    "𝑖\n",
    "2\n",
    "+\n",
    "𝑗\n",
    "2\n",
    "=\n",
    "𝑘\n",
    "2\n",
    "i \n",
    "2\n",
    " +j \n",
    "2\n",
    " =k \n",
    "2\n",
    " .\n",
    "Steps:\n",
    "\n",
    "Create a set of squared values for quick lookup.\n",
    "Iterate through pairs of elements and check if their sum exists in the squared set."
   ]
  },
  {
   "cell_type": "code",
   "execution_count": 7,
   "id": "f8b06a48",
   "metadata": {},
   "outputs": [
    {
     "name": "stdout",
     "output_type": "stream",
     "text": [
      "(3, 4, 5)\n"
     ]
    }
   ],
   "source": [
    "def find_pythagorean_triplet(arr):\n",
    "    squared_set = set(x * x for x in arr)\n",
    "    n = len(arr)\n",
    "    \n",
    "    for i in range(n):\n",
    "        for j in range(i + 1, n):\n",
    "            if arr[i]**2 + arr[j]**2 in squared_set:\n",
    "                return (arr[i], arr[j], int((arr[i]**2 + arr[j]**2)**0.5))\n",
    "    return None\n",
    "\n",
    "\n",
    "arr = [3, 4, 5, 6, 8, 10]\n",
    "print(find_pythagorean_triplet(arr))  \n"
   ]
  },
  {
   "cell_type": "markdown",
   "id": "72d66213",
   "metadata": {},
   "source": [
    "Problem 8: Find Majority Element\n",
    "Algorithm:\n",
    "\n",
    "Use the Boyer-Moore Voting Algorithm.\n",
    "Steps:\n",
    "\n",
    "Initialize candidate and count.\n",
    "Traverse the array to find the candidate.\n",
    "Verify if the candidate is indeed the majority element by counting its occurrences."
   ]
  },
  {
   "cell_type": "code",
   "execution_count": 8,
   "id": "31f79858",
   "metadata": {},
   "outputs": [
    {
     "name": "stdout",
     "output_type": "stream",
     "text": [
      "2\n"
     ]
    }
   ],
   "source": [
    "def find_majority_element(arr):\n",
    "    # Phase 1: Find the candidate\n",
    "    candidate = None\n",
    "    count = 0\n",
    "    \n",
    "    for num in arr:\n",
    "        if count == 0:\n",
    "            candidate = num\n",
    "        count += (1 if num == candidate else -1)\n",
    "    \n",
    "    # Phase 2: Verify the candidate\n",
    "    count = sum(1 for num in arr if num == candidate)\n",
    "    \n",
    "    return candidate if count > len(arr) // 2 else None\n",
    "\n",
    "\n",
    "arr = [1, 2, 3, 2, 2, 2, 1]\n",
    "print(find_majority_element(arr)) \n"
   ]
  },
  {
   "cell_type": "markdown",
   "id": "40d65719",
   "metadata": {},
   "source": [
    "Problem 9: Find Row with Maximum Number of 0's in Matrix\n",
    "Algorithm:\n",
    "\n",
    "Traverse each row from left to right to find the first occurrence of 0.\n",
    "Keep track of the row with the maximum count of 0's.\n",
    "Steps:\n",
    "\n",
    "Initialize a variable to track the row with the maximum number of 0's.\n",
    "For each row, count the number of 0's (or find the first occurrence of 0 and use it to calculate the count).\n",
    "Update the row with the maximum count accordingly."
   ]
  },
  {
   "cell_type": "code",
   "execution_count": 9,
   "id": "6eed156a",
   "metadata": {},
   "outputs": [],
   "source": [
    "def row_with_max_zeros(matrix):\n",
    "    n = len(matrix)\n",
    "    max_zeros = -1\n",
    "    row_index = -1\n",
    "\n",
    "    for i in range(n):\n",
    "        # Find the index of the last 1 in the row\n",
    "        last_one_index = -1\n",
    "        for j in range(n):\n",
    "            if matrix[i][j] == 1:\n",
    "                last_one_index = j\n",
    "        \n",
    "        # Number of zeros is from last_one_index + 1 to end\n",
    "        if last_one_index != -1:\n",
    "            num_zeros = n - (last_one_index + 1)\n",
    "        else:\n",
    "            num_zeros = n\n",
    "        \n",
    "        if num_zeros > max_zeros:\n",
    "            max_zeros = num_zeros\n",
    "            row_index = i\n",
    "    \n",
    "    return row_index\n"
   ]
  },
  {
   "cell_type": "markdown",
   "id": "5e3263d3",
   "metadata": {},
   "source": [
    "Problem 10: Sort an Array of 0’s, 1’s, and 2’s\n",
    "Given an array consisting of 0’s, 1’s, and 2’s, we want to sort the array in linear time.\n",
    "\n"
   ]
  },
  {
   "cell_type": "code",
   "execution_count": 10,
   "id": "5ed95e56",
   "metadata": {},
   "outputs": [],
   "source": [
    "def sort_012(arr):\n",
    "    low, mid, high = 0, 0, len(arr) - 1\n",
    "    \n",
    "    while mid <= high:\n",
    "        if arr[mid] == 0:\n",
    "            arr[low], arr[mid] = arr[mid], arr[low]\n",
    "            low += 1\n",
    "            mid += 1\n",
    "        elif arr[mid] == 1:\n",
    "            mid += 1\n",
    "        else:  # arr[mid] == 2\n",
    "            arr[high], arr[mid] = arr[mid], arr[high]\n",
    "            high -= 1\n",
    "    \n",
    "    return arr\n"
   ]
  },
  {
   "cell_type": "code",
   "execution_count": null,
   "id": "ab012953",
   "metadata": {},
   "outputs": [],
   "source": []
  }
 ],
 "metadata": {
  "kernelspec": {
   "display_name": "Python 3 (ipykernel)",
   "language": "python",
   "name": "python3"
  },
  "language_info": {
   "codemirror_mode": {
    "name": "ipython",
    "version": 3
   },
   "file_extension": ".py",
   "mimetype": "text/x-python",
   "name": "python",
   "nbconvert_exporter": "python",
   "pygments_lexer": "ipython3",
   "version": "3.9.13"
  }
 },
 "nbformat": 4,
 "nbformat_minor": 5
}
