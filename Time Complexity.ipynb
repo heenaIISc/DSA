{
 "cells": [
  {
   "cell_type": "markdown",
   "id": "4f484458",
   "metadata": {},
   "source": [
    "Problem 1 :\n",
    "def quicksort(arr):\n",
    "if len(arr) <= 1:\n",
    "return arr\n",
    "pivot = arr[len(arr) // 2]\n",
    "left = [x for x in arr if x < pivot]\n",
    "middle = [x for x in arr if x == pivot]\n",
    "right = [x for x in arr if x > pivot]\n",
    "return quicksort(left) + middle + quicksort(right)"
   ]
  },
  {
   "cell_type": "code",
   "execution_count": 1,
   "id": "2d373015",
   "metadata": {},
   "outputs": [],
   "source": [
    "def quicksort(arr):\n",
    "    if len(arr) <= 1:\n",
    "        return arr\n",
    "    pivot = arr[len(arr) // 2]\n",
    "    left = [x for x in arr if x < pivot]\n",
    "    middle = [x for x in arr if x == pivot]\n",
    "    right = [x for x in arr if x > pivot]\n",
    "    return quicksort(left) + middle + quicksort(right)\n"
   ]
  },
  {
   "cell_type": "markdown",
   "id": "cd96d48b",
   "metadata": {},
   "source": [
    "Problem 2 :\n",
    "def nested_loop_example(matrix):\n",
    "rows, cols = len(matrix), len(matrix[0])\n",
    "total = 0\n",
    "for i in range(rows):\n",
    "for j in range(cols):\n",
    "total += matrix[i][j]\n",
    "return total"
   ]
  },
  {
   "cell_type": "code",
   "execution_count": 2,
   "id": "a00d9c60",
   "metadata": {},
   "outputs": [],
   "source": [
    "def nested_loop_example(matrix):\n",
    "    rows, cols = len(matrix), len(matrix[0])\n",
    "    total = 0\n",
    "    for i in range(rows):\n",
    "        for j in range(cols):\n",
    "            total += matrix[i][j]\n",
    "    return total\n"
   ]
  },
  {
   "cell_type": "markdown",
   "id": "a3e826ce",
   "metadata": {},
   "source": [
    "Problem 3 :\n",
    "def example_function(arr):\n",
    "result = 0\n",
    "for element in arr:\n",
    "result += element\n",
    "return result"
   ]
  },
  {
   "cell_type": "code",
   "execution_count": 3,
   "id": "cf657565",
   "metadata": {},
   "outputs": [],
   "source": [
    "def example_function(arr):\n",
    "    result = 0\n",
    "    for element in arr:\n",
    "        result += element\n",
    "    return result\n"
   ]
  },
  {
   "cell_type": "markdown",
   "id": "2c3ca873",
   "metadata": {},
   "source": [
    "Problem 4 :\n",
    "def longest_increasing_subsequence(nums):\n",
    "n = len(nums)\n",
    "lis = [1] * n\n",
    "for i in range(1, n):\n",
    "for j in range(0, i):\n",
    "if nums[i] > nums[j] and lis[i] < lis[j] + 1:\n",
    "lis[i] = lis[j] + 1\n",
    "return max(lis)"
   ]
  },
  {
   "cell_type": "code",
   "execution_count": 4,
   "id": "9db9c8d6",
   "metadata": {},
   "outputs": [],
   "source": [
    "def longest_increasing_subsequence(nums):\n",
    "    n = len(nums)\n",
    "    lis = [1] * n\n",
    "    for i in range(1, n):\n",
    "        for j in range(0, i):\n",
    "            if nums[i] > nums[j] and lis[i] < lis[j] + 1:\n",
    "                lis[i] = lis[j] + 1\n",
    "    return max(lis)\n"
   ]
  },
  {
   "cell_type": "markdown",
   "id": "9d548bd8",
   "metadata": {},
   "source": [
    "Problem 5 :\n",
    "def mysterious_function(arr):\n",
    "n = len(arr)\n",
    "result = 0\n",
    "for i in range(n):\n",
    "for j in range(i, n):\n",
    "result += arr[i] * arr[j]\n",
    "return result"
   ]
  },
  {
   "cell_type": "code",
   "execution_count": 5,
   "id": "4844286e",
   "metadata": {},
   "outputs": [],
   "source": [
    "def mysterious_function(arr):\n",
    "    n = len(arr)\n",
    "    result = 0\n",
    "    for i in range(n):\n",
    "        for j in range(i, n):\n",
    "            result += arr[i] * arr[j]\n",
    "    return result\n"
   ]
  },
  {
   "cell_type": "markdown",
   "id": "dce93018",
   "metadata": {},
   "source": [
    "Problem 6 : Sum of Digits\n",
    "Write a recursive function to calculate the sum of digits of a given positive integer.\n",
    "sum_of_digits(123) -> 6"
   ]
  },
  {
   "cell_type": "code",
   "execution_count": 6,
   "id": "8d7bc33e",
   "metadata": {},
   "outputs": [],
   "source": [
    "def sum_of_digits(n):\n",
    "    # Base case: when the number is 0\n",
    "    if n == 0:\n",
    "        return 0\n",
    "    else:\n",
    "        # Recursive case: add the last digit to the sum of the digits of the remaining number\n",
    "        return n % 10 + sum_of_digits(n // 10)\n"
   ]
  },
  {
   "cell_type": "markdown",
   "id": "10d60422",
   "metadata": {},
   "source": [
    "Problem 7: Fibonacci Series\n",
    "Write a recursive function to generate the first n numbers of the Fibonacci series.\n",
    "fibonacci_series(6) -> [0, 1, 1, 2, 3, 5]"
   ]
  },
  {
   "cell_type": "code",
   "execution_count": 7,
   "id": "1871ad2f",
   "metadata": {},
   "outputs": [
    {
     "name": "stdout",
     "output_type": "stream",
     "text": [
      "[0, 1, 1, 2, 3, 5]\n"
     ]
    }
   ],
   "source": [
    "def fibonacci_series(n):\n",
    "    # Base case for invalid input\n",
    "    if n <= 0:\n",
    "        return []\n",
    "    \n",
    "    # Base cases for small values of n\n",
    "    if n == 1:\n",
    "        return [0]\n",
    "    elif n == 2:\n",
    "        return [0, 1]\n",
    "    \n",
    "    # Recursive function to build the series\n",
    "    def generate_fib_series(a, b, count):\n",
    "        if count == 0:\n",
    "            return []\n",
    "        else:\n",
    "            return [a] + generate_fib_series(b, a + b, count - 1)\n",
    "    \n",
    "    return generate_fib_series(0, 1, n)\n",
    "\n",
    "print(fibonacci_series(6))  \n"
   ]
  },
  {
   "cell_type": "markdown",
   "id": "5d8a5b1f",
   "metadata": {},
   "source": [
    "Problem 8 : Subset Sum\n",
    "Given a set of positive integers and a target sum, write a recursive function to determine if there exists a subset\n",
    "of the integers that adds up to the target sum.\n",
    "subset_sum([3, 34, 4, 12, 5, 2], 9) -> True"
   ]
  },
  {
   "cell_type": "code",
   "execution_count": 8,
   "id": "17d5891f",
   "metadata": {},
   "outputs": [
    {
     "name": "stdout",
     "output_type": "stream",
     "text": [
      "True\n"
     ]
    }
   ],
   "source": [
    "def subset_sum(arr, target):\n",
    "    def can_sum(index, current_sum):\n",
    "        # Base cases\n",
    "        if current_sum == 0:\n",
    "            return True\n",
    "        if index == len(arr) or current_sum < 0:\n",
    "            return False\n",
    "        \n",
    "        # Recursive case\n",
    "        # Include the current element in the subset\n",
    "        include = can_sum(index + 1, current_sum - arr[index])\n",
    "        # Exclude the current element from the subset\n",
    "        exclude = can_sum(index + 1, current_sum)\n",
    "        \n",
    "        return include or exclude\n",
    "    \n",
    "    return can_sum(0, target)\n",
    "\n",
    "\n",
    "print(subset_sum([3, 34, 4, 12, 5, 2], 9)) \n"
   ]
  },
  {
   "cell_type": "markdown",
   "id": "6e75d9c1",
   "metadata": {},
   "source": [
    "Problem 9: Word Break\n",
    "Given a non-empty string and a dictionary of words, write a recursive function to determine if the string can be\n",
    "segmented into a space-separated sequence of dictionary words.\n",
    "word_break( leetcode , [ leet , code ]) -> True"
   ]
  },
  {
   "cell_type": "code",
   "execution_count": 9,
   "id": "cacc2d0b",
   "metadata": {},
   "outputs": [
    {
     "name": "stdout",
     "output_type": "stream",
     "text": [
      "True\n"
     ]
    }
   ],
   "source": [
    "def word_break(s, word_dict):\n",
    "    # Convert the dictionary list to a set for faster look-up\n",
    "    word_set = set(word_dict)\n",
    "    \n",
    "    def can_segment(start_index):\n",
    "        # Base case: when the start_index reaches the end of the string\n",
    "        if start_index == len(s):\n",
    "            return True\n",
    "        \n",
    "        # Try every possible end index from the start_index\n",
    "        for end_index in range(start_index + 1, len(s) + 1):\n",
    "            # Get the current substring\n",
    "            current_substring = s[start_index:end_index]\n",
    "            \n",
    "            # Check if the substring is in the dictionary and if the remaining part can be segmented\n",
    "            if current_substring in word_set and can_segment(end_index):\n",
    "                return True\n",
    "        \n",
    "        return False\n",
    "    \n",
    "    return can_segment(0)\n",
    "\n",
    "\n",
    "print(word_break(\"leetcode\", [\"leet\", \"code\"]))\n"
   ]
  },
  {
   "cell_type": "markdown",
   "id": "e463d160",
   "metadata": {},
   "source": [
    "Problem 10 : N-Queens\n",
    "Implement a recursive function to solve the N Queens problem, where you have to place N queens on an N×N\n",
    "chessboard in such a way that no two queens threaten each other.\n",
    "n_queens(4)\n",
    "[\n",
    "[\".Q..\",\n",
    "\"...Q\",\n",
    "\"Q...\",\n",
    "\"..Q.\"],\n",
    "[\"..Q.\",\n",
    "\"Q...\",\n",
    "\"...Q\",\n",
    "\".Q..\"]\n",
    "]"
   ]
  },
  {
   "cell_type": "code",
   "execution_count": 10,
   "id": "931655ab",
   "metadata": {},
   "outputs": [
    {
     "name": "stdout",
     "output_type": "stream",
     "text": [
      ".Q.....QQ.....Q.\n",
      "\n",
      "..Q.Q......Q.Q..\n",
      "\n"
     ]
    }
   ],
   "source": [
    "def n_queens(n):\n",
    "    def is_valid(board, row, col):\n",
    "        # Check column\n",
    "        for i in range(row):\n",
    "            if board[i] == col or \\\n",
    "               board[i] - i == col - row or \\\n",
    "               board[i] + i == col + row:\n",
    "                return False\n",
    "        return True\n",
    "\n",
    "    def solve(board, row):\n",
    "        if row == n:\n",
    "            # Add the board to results if all queens are placed\n",
    "            result.append([''.join('.' * i + 'Q' + '.' * (n - i - 1) for i in board)])\n",
    "            return\n",
    "        \n",
    "        for col in range(n):\n",
    "            if is_valid(board, row, col):\n",
    "                board[row] = col\n",
    "                solve(board, row + 1)\n",
    "                board[row] = -1  # Backtrack\n",
    "\n",
    "    result = []\n",
    "    board = [-1] * n  \n",
    "    solve(board, 0)\n",
    "    return result\n",
    "\n",
    "solutions = n_queens(4)\n",
    "for solution in solutions:\n",
    "    for row in solution:\n",
    "        print(row)\n",
    "    print()\n"
   ]
  },
  {
   "cell_type": "code",
   "execution_count": null,
   "id": "10117835",
   "metadata": {},
   "outputs": [],
   "source": []
  }
 ],
 "metadata": {
  "kernelspec": {
   "display_name": "Python 3 (ipykernel)",
   "language": "python",
   "name": "python3"
  },
  "language_info": {
   "codemirror_mode": {
    "name": "ipython",
    "version": 3
   },
   "file_extension": ".py",
   "mimetype": "text/x-python",
   "name": "python",
   "nbconvert_exporter": "python",
   "pygments_lexer": "ipython3",
   "version": "3.9.13"
  }
 },
 "nbformat": 4,
 "nbformat_minor": 5
}
